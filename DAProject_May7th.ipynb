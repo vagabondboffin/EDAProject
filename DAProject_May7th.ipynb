{
  "nbformat": 4,
  "nbformat_minor": 0,
  "metadata": {
    "colab": {
      "provenance": [],
      "authorship_tag": "ABX9TyMimnDkYua6eq9x/2ZS6kuz",
      "include_colab_link": true
    },
    "kernelspec": {
      "name": "python3",
      "display_name": "Python 3"
    },
    "language_info": {
      "name": "python"
    }
  },
  "cells": [
    {
      "cell_type": "markdown",
      "metadata": {
        "id": "view-in-github",
        "colab_type": "text"
      },
      "source": [
        "<a href=\"https://colab.research.google.com/github/vagabondboffin/EDAProject/blob/main/DAProject_May7th.ipynb\" target=\"_parent\"><img src=\"https://colab.research.google.com/assets/colab-badge.svg\" alt=\"Open In Colab\"/></a>"
      ]
    },
    {
      "cell_type": "code",
      "execution_count": 2,
      "metadata": {
        "id": "ZlJVv0ujjWMN"
      },
      "outputs": [],
      "source": [
        "import numpy as np\n",
        "import pandas as pd\n",
        "import plotly.express as px\n",
        "import seaborn as sns\n",
        "from scipy import stats\n",
        "from sklearn import preprocessing"
      ]
    },
    {
      "cell_type": "code",
      "source": [
        "data = pd.read_csv('transactionsSel.csv',engine='python')\n",
        "#sort by date (not a required step since it will be automaticely done in most applications.)\n",
        "data['instance_date'] = pd.to_datetime(data['instance_date'], dayfirst = True)\n",
        "data[\"instance_date\"] = data[\"instance_date\"].astype('datetime64[ns]')\n",
        "data.sort_values(by='instance_date', inplace = True)"
      ],
      "metadata": {
        "id": "3yMpPqthn0vx"
      },
      "execution_count": 3,
      "outputs": []
    },
    {
      "cell_type": "markdown",
      "source": [
        "## Adjusting prices for inflation rate\n",
        "\n",
        "I found annual inflation rates from this link:\n",
        "https://www.statista.com/statistics/297779/uae-inflation-rate/\n",
        "\n",
        "We must indexed our data to the last year prices. I’m using the last data value to create the index, so that prices will be indexed to today’s prices. Indexed inflations are stored in 'CPI_Multiplier' column. Since our data is annual (I couldn't find monthly inflation rates/CPIs), I merged inflation data and transaction data by 'year'. Adjusted prices are in adjMeterPrice column.\n",
        "\n",
        "The decreasing trend in inflation rates for some following years results in negative values for adjusted prices. This suggests that when considering the inflation, prices have actually dropped. "
      ],
      "metadata": {
        "id": "xAYkcmAuqHBt"
      }
    },
    {
      "cell_type": "code",
      "source": [
        "inflationRate = pd.read_csv('inflationRate.csv',engine='python')\n",
        "inflationRate['CPI_Multiplier'] = inflationRate['rate'].iloc[-1] / inflationRate['rate']\n",
        "data = pd.merge(data, inflationRate, how='left', on='year')\n",
        "data['adjMeterPrice'] = data['meter_sale_price'] * data['CPI_Multiplier']"
      ],
      "metadata": {
        "id": "uy9L7JTBr48o"
      },
      "execution_count": 4,
      "outputs": []
    },
    {
      "cell_type": "markdown",
      "source": [
        "## separate dataset by transaction types \n",
        "\n",
        "Previously, id and arabic columns were dropped. "
      ],
      "metadata": {
        "id": "I-Dcqb-QoSRc"
      }
    },
    {
      "cell_type": "code",
      "source": [
        "data['trans_group_en'].unique()\n",
        "data = data.iloc[: , 1:]"
      ],
      "metadata": {
        "id": "h70ff4c07Srd"
      },
      "execution_count": 26,
      "outputs": []
    },
    {
      "cell_type": "code",
      "source": [
        "#separate into sub-datasets\n",
        "dfSales = data[data['trans_group_en'] == 'Sales']\n",
        "dfGifts = data[data['trans_group_en'] == 'Gifts']\n",
        "dfMortgages = data[data['trans_group_en'] == 'Mortgages']"
      ],
      "metadata": {
        "id": "NT7lpkw4oRfG"
      },
      "execution_count": 29,
      "outputs": []
    },
    {
      "cell_type": "markdown",
      "source": [
        "## Sale subdataset\n"
      ],
      "metadata": {
        "id": "7xgbbr7fCNDT"
      }
    },
    {
      "cell_type": "code",
      "source": [
        "x = dfSales[['meter_sale_price','adjMeterPrice']].values #returns a numpy array\n",
        "min_max_scaler = preprocessing.MinMaxScaler()\n",
        "x_scaled = min_max_scaler.fit_transform(x)\n",
        "normalized_prices = pd.DataFrame(x_scaled)"
      ],
      "metadata": {
        "id": "sTXhN0uB93XJ"
      },
      "execution_count": 20,
      "outputs": []
    },
    {
      "cell_type": "markdown",
      "source": [
        "In the following section, number of missing values and unique values for each attribute is reported. columns with number of unique values less than 50 are stored in selectedCol. "
      ],
      "metadata": {
        "id": "OtZEtzIlGzKR"
      }
    },
    {
      "cell_type": "code",
      "source": [
        "selectedCol = []\n",
        "for column in dfSales:\n",
        "    numRow = dfSales.shape[0]\n",
        "    print(f'attribute name: {column}')\n",
        "    row = dfSales[column]\n",
        "    print(f' number of missing values: {numRow - row.count()}')\n",
        "    #print(f' percentage of missing values: {(numRow - row.count()) / numRow}')\n",
        "    print(f' number of unique values: {row.nunique()}')\n",
        "    print('+++++++++++++++++++++++++++++++++++++++++++++')\n",
        "    if row.nunique() < 50:\n",
        "      selectedCol.append(column)\n"
      ],
      "metadata": {
        "colab": {
          "base_uri": "https://localhost:8080/"
        },
        "id": "bfxJH57z2B8x",
        "outputId": "e5ebaa01-4062-4af4-9c7b-34c2d0d14afe"
      },
      "execution_count": 42,
      "outputs": [
        {
          "output_type": "stream",
          "name": "stdout",
          "text": [
            "attribute name: trans_group_en\n",
            " number of missing values: 0\n",
            " number of unique values: 1\n",
            "+++++++++++++++++++++++++++++++++++++++++++++\n",
            "attribute name: procedure_name_en\n",
            " number of missing values: 0\n",
            " number of unique values: 18\n",
            "+++++++++++++++++++++++++++++++++++++++++++++\n",
            "attribute name: property_type_en\n",
            " number of missing values: 0\n",
            " number of unique values: 4\n",
            "+++++++++++++++++++++++++++++++++++++++++++++\n",
            "attribute name: property_sub_type_en\n",
            " number of missing values: 137913\n",
            " number of unique values: 17\n",
            "+++++++++++++++++++++++++++++++++++++++++++++\n",
            "attribute name: property_usage_en\n",
            " number of missing values: 0\n",
            " number of unique values: 11\n",
            "+++++++++++++++++++++++++++++++++++++++++++++\n",
            "attribute name: reg_type_en\n",
            " number of missing values: 0\n",
            " number of unique values: 2\n",
            "+++++++++++++++++++++++++++++++++++++++++++++\n",
            "attribute name: area_name_en\n",
            " number of missing values: 0\n",
            " number of unique values: 237\n",
            "+++++++++++++++++++++++++++++++++++++++++++++\n",
            "attribute name: building_name_en\n",
            " number of missing values: 200437\n",
            " number of unique values: 3351\n",
            "+++++++++++++++++++++++++++++++++++++++++++++\n",
            "attribute name: project_name_en\n",
            " number of missing values: 242374\n",
            " number of unique values: 1943\n",
            "+++++++++++++++++++++++++++++++++++++++++++++\n",
            "attribute name: master_project_en\n",
            " number of missing values: 119851\n",
            " number of unique values: 170\n",
            "+++++++++++++++++++++++++++++++++++++++++++++\n",
            "attribute name: nearest_landmark_en\n",
            " number of missing values: 104262\n",
            " number of unique values: 14\n",
            "+++++++++++++++++++++++++++++++++++++++++++++\n",
            "attribute name: nearest_metro_en\n",
            " number of missing values: 185248\n",
            " number of unique values: 56\n",
            "+++++++++++++++++++++++++++++++++++++++++++++\n",
            "attribute name: nearest_mall_en\n",
            " number of missing values: 189178\n",
            " number of unique values: 5\n",
            "+++++++++++++++++++++++++++++++++++++++++++++\n",
            "attribute name: rooms_en\n",
            " number of missing values: 144927\n",
            " number of unique values: 16\n",
            "+++++++++++++++++++++++++++++++++++++++++++++\n",
            "attribute name: has_parking\n",
            " number of missing values: 0\n",
            " number of unique values: 2\n",
            "+++++++++++++++++++++++++++++++++++++++++++++\n",
            "attribute name: procedure_area\n",
            " number of missing values: 0\n",
            " number of unique values: 68428\n",
            "+++++++++++++++++++++++++++++++++++++++++++++\n",
            "attribute name: actual_worth\n",
            " number of missing values: 849\n",
            " number of unique values: 194650\n",
            "+++++++++++++++++++++++++++++++++++++++++++++\n",
            "attribute name: meter_sale_price\n",
            " number of missing values: 0\n",
            " number of unique values: 466481\n",
            "+++++++++++++++++++++++++++++++++++++++++++++\n",
            "attribute name: no_of_parties_role_1\n",
            " number of missing values: 1137\n",
            " number of unique values: 54\n",
            "+++++++++++++++++++++++++++++++++++++++++++++\n",
            "attribute name: no_of_parties_role_2\n",
            " number of missing values: 1137\n",
            " number of unique values: 27\n",
            "+++++++++++++++++++++++++++++++++++++++++++++\n",
            "attribute name: no_of_parties_role_3\n",
            " number of missing values: 1137\n",
            " number of unique values: 14\n",
            "+++++++++++++++++++++++++++++++++++++++++++++\n",
            "attribute name: year\n",
            " number of missing values: 1\n",
            " number of unique values: 27\n",
            "+++++++++++++++++++++++++++++++++++++++++++++\n",
            "attribute name: month\n",
            " number of missing values: 1\n",
            " number of unique values: 12\n",
            "+++++++++++++++++++++++++++++++++++++++++++++\n",
            "attribute name: meter_rent_price\n",
            " number of missing values: 796800\n",
            " number of unique values: 0\n",
            "+++++++++++++++++++++++++++++++++++++++++++++\n",
            "attribute name: instance_date\n",
            " number of missing values: 1\n",
            " number of unique values: 6877\n",
            "+++++++++++++++++++++++++++++++++++++++++++++\n",
            "attribute name: Unnamed: 0_y\n",
            " number of missing values: 1\n",
            " number of unique values: 27\n",
            "+++++++++++++++++++++++++++++++++++++++++++++\n",
            "attribute name: rate\n",
            " number of missing values: 1\n",
            " number of unique values: 26\n",
            "+++++++++++++++++++++++++++++++++++++++++++++\n",
            "attribute name: CPI_Multiplier\n",
            " number of missing values: 1\n",
            " number of unique values: 26\n",
            "+++++++++++++++++++++++++++++++++++++++++++++\n",
            "attribute name: adjMeterPrice\n",
            " number of missing values: 1\n",
            " number of unique values: 596033\n",
            "+++++++++++++++++++++++++++++++++++++++++++++\n"
          ]
        }
      ]
    },
    {
      "cell_type": "code",
      "source": [
        "print(selectedCol)"
      ],
      "metadata": {
        "colab": {
          "base_uri": "https://localhost:8080/"
        },
        "id": "vhw3WamhBSWL",
        "outputId": "0ac6dfb3-2d26-4cf0-d663-765785ad3782"
      },
      "execution_count": 51,
      "outputs": [
        {
          "output_type": "stream",
          "name": "stdout",
          "text": [
            "['trans_group_en', 'procedure_name_en', 'property_type_en', 'property_sub_type_en', 'property_usage_en', 'reg_type_en', 'nearest_landmark_en', 'nearest_mall_en', 'rooms_en', 'has_parking', 'no_of_parties_role_2', 'no_of_parties_role_3', 'year', 'month']\n"
          ]
        }
      ]
    }
  ]
}